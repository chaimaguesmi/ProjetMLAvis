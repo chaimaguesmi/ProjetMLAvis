{
 "cells": [
  {
   "cell_type": "code",
   "execution_count": 6,
   "metadata": {},
   "outputs": [
    {
     "name": "stdout",
     "output_type": "stream",
     "text": [
      "(4537, 3)\n",
      "(9820, 3)\n",
      "Nombre de lignes contenant 'Négatif' ou 'Neutre' : 309\n"
     ]
    }
   ],
   "source": [
    "import pandas as pd\n",
    "import matplotlib.pyplot as plt\n",
    "df = pd.read_csv('reviews_product_category.csv', sep=';')\n",
    "df2 = pd.read_csv('reviews_product_category2.csv', sep=';')\n",
    "import matplotlib.pyplot as plt\n",
    "def assign_label(note):\n",
    "    if note == 1:\n",
    "        return 'Négatif'\n",
    "    elif note == 2:\n",
    "        return 'Neutre'\n",
    "    else:\n",
    "        return 'Positif'\n",
    "df['Label'] = df['Note'].apply(assign_label)\n",
    "print(df.shape)\n",
    "df2['Label'] = df2['Note'].apply(assign_label)\n",
    "print(df2.shape)\n",
    "count = df2[df2['Label'].isin(['Négatif', 'Neutre'])].shape[0]\n",
    "\n",
    "print(f\"Nombre de lignes contenant 'Négatif' ou 'Neutre' : {count}\")"
   ]
  },
  {
   "cell_type": "code",
   "execution_count": 10,
   "metadata": {},
   "outputs": [
    {
     "name": "stdout",
     "output_type": "stream",
     "text": [
      "(309, 3)\n",
      "      Note                        Commentaire\n",
      "0        5             dima nekhouh wou naawd\n",
      "1        5                           j\\’adore\n",
      "2        4                          mche maya\n",
      "3        5                      Je recommande\n",
      "4        5       Le prix est très raisonnable\n",
      "...    ...                                ...\n",
      "4841     1                                 ok\n",
      "4842     1  elle n’est pas matifiante du tout\n",
      "4843     2                  tjr en repture !!\n",
      "4844     2    moyen lahkika je recommande pas\n",
      "4845     2                            Pas mal\n",
      "\n",
      "[4846 rows x 2 columns]\n"
     ]
    }
   ],
   "source": [
    "# Création de df2 avec uniquement les lignes \"Négatif\" et \"Neutre\"\n",
    "df_negatif_neutre = df2[df2['Label'].isin(['Négatif', 'Neutre'])]\n",
    "print(df_negatif_neutre.shape)\n",
    "df_result = pd.concat([df, df_negatif_neutre], ignore_index=True)\n",
    "df_result.to_csv('dfcleaned - dfcleaned.csv', index=False, sep=';')\n",
    "df_result = df_result.drop('Label', axis=1)\n",
    "print(df_result)\n",
    "df_result.to_csv('resultat.csv', index=False, sep=';')"
   ]
  }
 ],
 "metadata": {
  "kernelspec": {
   "display_name": "Python 3",
   "language": "python",
   "name": "python3"
  },
  "language_info": {
   "codemirror_mode": {
    "name": "ipython",
    "version": 3
   },
   "file_extension": ".py",
   "mimetype": "text/x-python",
   "name": "python",
   "nbconvert_exporter": "python",
   "pygments_lexer": "ipython3",
   "version": "3.11.5"
  }
 },
 "nbformat": 4,
 "nbformat_minor": 2
}
